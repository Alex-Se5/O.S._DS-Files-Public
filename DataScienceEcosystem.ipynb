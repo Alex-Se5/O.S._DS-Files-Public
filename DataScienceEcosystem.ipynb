{
 "cells": [
  {
   "cell_type": "markdown",
   "id": "bfd4fccc",
   "metadata": {},
   "source": [
    "# DataScienceEcosystem"
   ]
  },
  {
   "cell_type": "markdown",
   "id": "560d2216",
   "metadata": {},
   "source": [
    "In this notebook, Data Science Tools and Ecosystem are summarized."
   ]
  },
  {
   "cell_type": "markdown",
   "id": "42fd372a",
   "metadata": {},
   "source": [
    "**Objectives:**\n",
    "\n",
    "* List of popular languages for Data Scientists \n",
    "* Common libraries for Data Scientists\n",
    "* Examples of arithmetic expressions in Python"
   ]
  },
  {
   "cell_type": "markdown",
   "id": "17babc7b",
   "metadata": {},
   "source": [
    "Some of the popular languages that Data Scientists use are:\n",
    "\n",
    "1. Python\n",
    "2. R\n",
    "3. SQL\n",
    "4. Scala\n",
    "5. C++\n",
    "6. Java\n",
    "7. JavaScript\n",
    "8. Julia"
   ]
  },
  {
   "cell_type": "markdown",
   "id": "2bb8b6fd",
   "metadata": {},
   "source": [
    "> Libraries are a collection of functions and methods that allow you to perform many actions without writing the code.\n",
    "\n",
    "Some of the commonly used libraries used by Data Scientists include:\n",
    "\n",
    "***Python***\n",
    "* Pandas\n",
    "* NumPy\n",
    "* Matplotlib\n",
    "* Seaborn\n",
    "* SciPy\n",
    "* Keras\n",
    "* Scikit-learn\n",
    "* TensorFlow\n",
    "* Pytorch"
   ]
  },
  {
   "cell_type": "markdown",
   "id": "68e7082a",
   "metadata": {},
   "source": [
    "| Data Science Tools |\n",
    "| ------------------ |\n",
    "|    Jupyter         |\n",
    "|    Apache Zeppelin |\n",
    "|    RStudio         |\n",
    "|    Spyder          |"
   ]
  },
  {
   "cell_type": "markdown",
   "id": "74a03eb1",
   "metadata": {},
   "source": [
    "### Below are a few examples of evaluating arithmetic expressions in Python"
   ]
  },
  {
   "cell_type": "code",
   "execution_count": 1,
   "id": "c0806064",
   "metadata": {},
   "outputs": [
    {
     "data": {
      "text/plain": [
       "17"
      ]
     },
     "execution_count": 1,
     "metadata": {},
     "output_type": "execute_result"
    }
   ],
   "source": [
    "# This a simple arithmetic expression to mutiply then add integers\n",
    "\n",
    "(3*4)+5"
   ]
  },
  {
   "cell_type": "code",
   "execution_count": 2,
   "id": "db4dfae9",
   "metadata": {},
   "outputs": [
    {
     "data": {
      "text/plain": [
       "3.3333333333333335"
      ]
     },
     "execution_count": 2,
     "metadata": {},
     "output_type": "execute_result"
    }
   ],
   "source": [
    "# This will convert 200 minutes to hours by diving by 60\n",
    "\n",
    "200/60"
   ]
  },
  {
   "cell_type": "markdown",
   "id": "3fadeb81",
   "metadata": {},
   "source": [
    "## Author:\n",
    "O. S."
   ]
  },
  {
   "cell_type": "code",
   "execution_count": null,
   "id": "29e257d8",
   "metadata": {},
   "outputs": [],
   "source": []
  }
 ],
 "metadata": {
  "kernelspec": {
   "display_name": "Python 3 (ipykernel)",
   "language": "python",
   "name": "python3"
  },
  "language_info": {
   "codemirror_mode": {
    "name": "ipython",
    "version": 3
   },
   "file_extension": ".py",
   "mimetype": "text/x-python",
   "name": "python",
   "nbconvert_exporter": "python",
   "pygments_lexer": "ipython3",
   "version": "3.9.7"
  }
 },
 "nbformat": 4,
 "nbformat_minor": 5
}
